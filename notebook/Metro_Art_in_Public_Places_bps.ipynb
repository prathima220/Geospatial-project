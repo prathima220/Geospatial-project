{
 "cells": [
  {
   "cell_type": "code",
   "execution_count": null,
   "id": "2b5637db-a56a-4096-b869-f2eec83b211d",
   "metadata": {},
   "outputs": [],
   "source": [
    "import pandas as pd\n",
    "import geopandas as gpd\n",
    "import matplotlib.pyplot as plt\n",
    "import folium\n",
    "from folium.plugins import MarkerCluster\n",
    "from folium.plugins import FastMarkerCluster"
   ]
  },
  {
   "cell_type": "code",
   "execution_count": null,
   "id": "0b1ebf15-4462-43a0-9afc-e5aa24e3f9a1",
   "metadata": {},
   "outputs": [],
   "source": [
    "zipcodes = gpd.read_file('../data/zipcodes.geojson')\n",
    "print(zipcodes.crs)\n",
    "zipcodes.head( )"
   ]
  },
  {
   "cell_type": "code",
   "execution_count": null,
   "id": "d784f523-8eed-4762-8e3a-35e826279a0f",
   "metadata": {},
   "outputs": [],
   "source": [
    "type(zipcodes)"
   ]
  },
  {
   "cell_type": "code",
   "execution_count": null,
   "id": "ea231466-7091-4553-8700-127972e8f11e",
   "metadata": {},
   "outputs": [],
   "source": [
    "zipcodes.plot();"
   ]
  },
  {
   "cell_type": "code",
   "execution_count": null,
   "id": "b4310796-0ab5-4f20-8e6a-8ab59838971f",
   "metadata": {},
   "outputs": [],
   "source": [
    "#geopandas will take care of legend styling if you pass a dict of keywords\n",
    "\n",
    "leg_kwds = {'title': 'Zipcodes', 'loc': 'upper left', \n",
    "            'bbox_to_anchor': (1, 1.03), 'ncol': 2}\n",
    "\n",
    "zipcodes.plot(column = 'zip', figsize=(10, 10),\n",
    "              edgecolor = 'black',\n",
    "              legend = True, legend_kwds = leg_kwds, \n",
    "              cmap = 'Set2')\n",
    "plt.show()"
   ]
  },
  {
   "cell_type": "markdown",
   "id": "3a497915-d59c-4965-baa3-6e3676544b7d",
   "metadata": {},
   "source": [
    "###  Metro Nashville Arts Commission or “Metro Arts” is the office of Arts & Culture for the city of Nashville and Davidson County. We believe that arts drive a more vibrant and equitable community. We strive to ensure that all Nashvillians have access to a creative life through community investments, artist and organizational training, public art and creative placemaking coordination and direct programs that involve residents in all forms of arts and culture.\n",
    "\n",
    "Metro Nashville Arts Commission was started in 1978 by Metro Charter."
   ]
  },
  {
   "cell_type": "code",
   "execution_count": null,
   "id": "d693be14-c449-4990-9e2d-366b700f0bce",
   "metadata": {},
   "outputs": [],
   "source": [
    " Metro_Art_in_Public_Places = pd.read_csv('../data/Metro_Art_in_Public_Places.csv')\n",
    "print( Metro_Art_in_Public_Places.shape)\n",
    " Metro_Art_in_Public_Places.head(3)"
   ]
  },
  {
   "cell_type": "code",
   "execution_count": null,
   "id": "505d4811-62ce-40dc-af3d-c3f647642149",
   "metadata": {},
   "outputs": [],
   "source": [
    " Metro_Art_in_Public_Places.info()"
   ]
  },
  {
   "cell_type": "code",
   "execution_count": null,
   "id": "6d6a8c65-3d79-4905-8042-d9a139375a55",
   "metadata": {},
   "outputs": [],
   "source": [
    " Metro_Art_in_Public_Places.columns"
   ]
  },
  {
   "cell_type": "code",
   "execution_count": null,
   "id": "bda4b548-198a-47e4-99e5-2263ac66e0b7",
   "metadata": {},
   "outputs": [],
   "source": [
    "zipcodes.crs"
   ]
  },
  {
   "cell_type": "code",
   "execution_count": null,
   "id": "bb8e645b-8757-450d-ad3d-45e591d97789",
   "metadata": {},
   "outputs": [],
   "source": [
    " Metro_Art_in_Public_Places_geo = gpd.GeoDataFrame( Metro_Art_in_Public_Places, \n",
    "                           crs = zipcodes.crs, \n",
    "                           geometry = gpd.points_from_xy( Metro_Art_in_Public_Places.Longitude,  Metro_Art_in_Public_Places.Latitude))"
   ]
  },
  {
   "cell_type": "code",
   "execution_count": null,
   "id": "0784ca13-cd9b-4882-85ac-fa09d5e13af5",
   "metadata": {},
   "outputs": [],
   "source": [
    "type( Metro_Art_in_Public_Places_geo)"
   ]
  },
  {
   "cell_type": "code",
   "execution_count": null,
   "id": "1aff75da-12d8-46ae-b169-dfce84c7da5e",
   "metadata": {},
   "outputs": [],
   "source": [
    "zipcodes = zipcodes[['zip', 'po_name', 'geometry']]"
   ]
  },
  {
   "cell_type": "code",
   "execution_count": null,
   "id": "f6dcf4f0-3465-4db6-8858-6e3ebf650b27",
   "metadata": {},
   "outputs": [],
   "source": [
    "Metro_Art_in_Public_Places_geo_by_zip = gpd.sjoin(Metro_Art_in_Public_Places_geo, zipcodes, predicate = 'within')"
   ]
  },
  {
   "cell_type": "code",
   "execution_count": null,
   "id": "b2192f7e-7c9a-4ead-ab50-0e25a474193c",
   "metadata": {},
   "outputs": [],
   "source": [
    "Metro_Art_in_Public_Places_geo_by_zip.head()"
   ]
  },
  {
   "cell_type": "code",
   "execution_count": null,
   "id": "70673460-530b-4f61-a385-1bd35a1f7c47",
   "metadata": {},
   "outputs": [],
   "source": [
    "Metro_Art_in_Public_Places_geo_by_zip.columns"
   ]
  },
  {
   "cell_type": "code",
   "execution_count": null,
   "id": "ac323ede-4435-49b5-b7ba-9cc32f4d9d9a",
   "metadata": {},
   "outputs": [],
   "source": [
    "Metro_Art_in_Public_Places_geo_by_zip = Metro_Art_in_Public_Places_geo_by_zip[['zip', 'Title', 'Artist Last Name', 'Artist First Name',\n",
    "                                                                               'Location','Medium', 'Type', 'Description', 'Latitude', \n",
    "                                                                               'Longitude', 'City', 'State','x', 'y', 'geometry', 'index_right',\n",
    "                                                                               'po_name']]"
   ]
  },
  {
   "cell_type": "code",
   "execution_count": null,
   "id": "7ecc4d07-c1fe-440b-a155-c9bf5be57d6b",
   "metadata": {},
   "outputs": [],
   "source": [
    "Metro_Art_in_Public_Places_geo_by_zip.head()"
   ]
  },
  {
   "cell_type": "code",
   "execution_count": null,
   "id": "26abd456-72a6-459d-9b47-e5f16de8dc7c",
   "metadata": {},
   "outputs": [],
   "source": [
    "Metro_Art_in_Public_Places_geo_by_zip['zip'].value_counts()"
   ]
  },
  {
   "cell_type": "markdown",
   "id": "46c28518-e362-428e-a3f1-6945afdd738e",
   "metadata": {},
   "source": [
    " ###  Let's take a closer look at the 33 Metro_Art_in_Public_Places in the 37219  zipcode"
   ]
  },
  {
   "cell_type": "code",
   "execution_count": null,
   "id": "a218b98b-8fa9-4687-9b57-6cd8f6943f5f",
   "metadata": {},
   "outputs": [],
   "source": [
    "Metro_Art_in_Public_Places_in_37219 = Metro_Art_in_Public_Places_geo_by_zip.loc[Metro_Art_in_Public_Places_geo_by_zip['zip'] == '37219']\n",
    "Metro_Art_in_Public_Places_in_37219.shape"
   ]
  },
  {
   "cell_type": "code",
   "execution_count": null,
   "id": "73f82ac8-bc21-48a7-b2bd-cb9a92332d2a",
   "metadata": {},
   "outputs": [],
   "source": [
    "polygon37219 = zipcodes.loc[zipcodes['zip'] == '37219']\n",
    "polygon37219.shape"
   ]
  },
  {
   "cell_type": "code",
   "execution_count": null,
   "id": "b72a1d59-63d5-414a-8401-e2ba44b3c5bb",
   "metadata": {},
   "outputs": [],
   "source": [
    "#fig, ax = matplotlib.subplots()\n",
    "ax = polygon37219.plot(figsize = (8, 10), color = 'lightgreen')\n",
    "Metro_Art_in_Public_Places_in_37219.plot( ax = ax, column = 'Location');\n",
    "plt.show();"
   ]
  },
  {
   "cell_type": "code",
   "execution_count": null,
   "id": "d43cf080-e509-4690-bde9-0e71a596e2f2",
   "metadata": {},
   "outputs": [],
   "source": [
    "polygon37219.geometry.centroid"
   ]
  },
  {
   "cell_type": "code",
   "execution_count": null,
   "id": "07713c3f-03ca-4f18-ac77-1f3d4efe01fe",
   "metadata": {},
   "outputs": [],
   "source": [
    "#find the center of the larger (more southern) polygon and look at it\n",
    "center = polygon37219.geometry.centroid[24]\n",
    "print(center)"
   ]
  },
  {
   "cell_type": "code",
   "execution_count": null,
   "id": "51c3be38-4af8-4ac9-bd27-71c329e074ee",
   "metadata": {},
   "outputs": [],
   "source": [
    "# reverse the order when constructing the array for folium location\n",
    "area_center = [center.y, center.x]\n",
    "\n",
    "# check the order of area_center, the location for our folium map\n",
    "print(area_center)"
   ]
  },
  {
   "cell_type": "code",
   "execution_count": null,
   "id": "6a21438a-12f7-4b68-9f9f-40b24de0fa69",
   "metadata": {},
   "outputs": [],
   "source": [
    "#create our map of Nashville Zip Code 37219 and show it\n",
    "map_37219 = folium.Map(location =  area_center, zoom_start = 12)\n",
    "map_37219"
   ]
  },
  {
   "cell_type": "code",
   "execution_count": null,
   "id": "54da9244-fdff-4665-8652-1db05b032d82",
   "metadata": {},
   "outputs": [],
   "source": [
    "i = 0\n",
    "for row_index, row_values in Metro_Art_in_Public_Places_in_37219.iterrows():\n",
    "    if i <3: \n",
    "        print('index is', row_index)\n",
    "        print('values are:')\n",
    "        print(' ')\n",
    "        print(row_values)\n",
    "        print('------------------------- ')\n",
    "        i+=1"
   ]
  },
  {
   "cell_type": "code",
   "execution_count": null,
   "id": "fea5b89f-1135-4db8-be3f-ef5f577c3bc8",
   "metadata": {},
   "outputs": [],
   "source": [
    "#draw our zip code area: 37219\n",
    "map_37219 = folium.Map(location =  area_center, zoom_start = 12)\n",
    "\n",
    "folium.GeoJson(polygon37219).add_to(map_37219)\n",
    "\n",
    "#iterate through stops_in_37219 to create locations and markers \n",
    "#for each loaction\n",
    "#remember for Folium locations, lat is listed first!!\n",
    "\n",
    "for row_index, row_values in Metro_Art_in_Public_Places_in_37219.iterrows():\n",
    "    loc = [row_values['Latitude'], row_values['Longitude']]\n",
    "    pop = str(row_values['Location'])\n",
    "    icon=folium.Icon(color=\"blue\",icon=\"paint-brush\", prefix='fa')\n",
    "    \n",
    "    marker = folium.Marker(\n",
    "        location = loc, \n",
    "        popup = pop, icon = icon) \n",
    "\n",
    "    marker.add_to(map_37219)\n",
    "map_37219.save('../maps/map37219.html')\n",
    "\n",
    "#display our map\n",
    "map_37219"
   ]
  },
  {
   "cell_type": "code",
   "execution_count": null,
   "id": "186edcb3-453b-4d9b-8512-d95fc20ab379",
   "metadata": {},
   "outputs": [],
   "source": []
  },
  {
   "cell_type": "code",
   "execution_count": null,
   "id": "46f24a20-4ae0-4e73-9749-96d1e860590d",
   "metadata": {},
   "outputs": [],
   "source": [
    "map_37219 = folium.Map(location =  area_center, zoom_start = 12)\n",
    "\n",
    "folium.GeoJson(polygon37219).add_to(map_37219)\n",
    "for row in Metro_Art_in_Public_Places_in_37219.iterrows():\n",
    "    row_values = row[1] \n",
    "    location = [row_values['Latitude'], row_values['Longitude']]\n",
    "    popup = (str(row_values['Artist Last Name']) + ': ' + \n",
    "             str(row_values['Type']) + '<br/>' +\n",
    "             str(row_values['Medium'])).replace(\"'\", \"`\")\n",
    "    marker = folium.Marker(location = location, popup = popup)\n",
    "    \n",
    "    marker.add_to(map_37219)\n",
    "\n",
    "#display our map\n",
    "map_37219"
   ]
  },
  {
   "cell_type": "code",
   "execution_count": null,
   "id": "29573b77-c9f6-4b24-8992-9d2e1738d9e6",
   "metadata": {},
   "outputs": [],
   "source": [
    "cluster_map_37219 = folium.Map(location =  area_center, zoom_start = 12)\n",
    "\n",
    "#create a marker cluster\n",
    "marker_cluster = MarkerCluster().add_to(cluster_map_37219)\n",
    "\n",
    "folium.GeoJson(polygon37219).add_to(cluster_map_37219)\n",
    "\n",
    "# inside the loop add each marker to the cluster\n",
    "for row_index, row_values in Metro_Art_in_Public_Places_in_37219.iterrows():\n",
    "    loc = [row_values['Latitude'], row_values['Longitude']]\n",
    "    pop = str(row_values['Location'])\n",
    "    icon=folium.Icon(color=\"blue\",icon=\"paint-brush\", prefix='fa')\n",
    "    \n",
    "    marker = folium.Marker(\n",
    "        location = loc, \n",
    "        popup = pop,\n",
    "    icon = icon) \n",
    "    \n",
    "    marker.add_to(marker_cluster)\n",
    "\n",
    "    \n",
    "#save an interactive HTML map by calling .save()\n",
    "cluster_map_37219.save('../maps/cluster37219.html')\n",
    "\n",
    "cluster_map_37219"
   ]
  },
  {
   "cell_type": "code",
   "execution_count": null,
   "id": "fe6aec86-9334-4650-9b9c-4a62a2211468",
   "metadata": {},
   "outputs": [],
   "source": [
    "#draw our zip code area: 37219\n",
    "map_37219 = folium.Map(location =  area_center, zoom_start = 12)\n",
    "\n",
    "folium.GeoJson(polygon37219).add_to(map_37219)\n",
    "\n",
    "#create a list of locations and pass them to FastMarkerCluster()\n",
    "locations = Metro_Art_in_Public_Places_in_37219[['Latitude', 'Longitude']].values.tolist()\n",
    "map_37219.add_child(\n",
    "    FastMarkerCluster(locations)\n",
    ")\n",
    "\n",
    "\n",
    "\n",
    "#display our map\n",
    "map_37219"
   ]
  },
  {
   "cell_type": "code",
   "execution_count": null,
   "id": "729372be-8433-4261-939c-c5cf53cd14fa",
   "metadata": {},
   "outputs": [],
   "source": [
    "Metro_Art_in_Public_Places_in_37219.head(2)"
   ]
  },
  {
   "cell_type": "code",
   "execution_count": null,
   "id": "f9f512aa-3bd7-4958-b6b0-bc7a249f305e",
   "metadata": {},
   "outputs": [],
   "source": [
    " Metro_Art_in_Public_Places_in_37219.columns"
   ]
  },
  {
   "cell_type": "code",
   "execution_count": null,
   "id": "d3775403-d77a-43a9-984c-421550bb0662",
   "metadata": {},
   "outputs": [],
   "source": [
    "Metro_Art_in_Public_Places_in_37219 = Metro_Art_in_Public_Places_in_37219.drop(columns=['zip', 'Description', 'Latitude', 'Longitude',\n",
    "                                                  'State', 'x', 'y', 'geometry', 'index_right', 'po_name'])\n",
    "Metro_Art_in_Public_Places_in_37219.head(2)"
   ]
  },
  {
   "cell_type": "markdown",
   "id": "06597247-17de-4737-942b-62e24126fac1",
   "metadata": {},
   "source": [
    "import pandas as pd\n",
    "\n",
    "df = Metro_Art_in_Public_Places_in_37219\n",
    "\n",
    "m = folium.Map([43, -100], zoom_start=4)\n",
    "\n",
    "html = df.to_html(\n",
    "    classes=\"table table-striped table-hover table-condensed table-responsive\"\n",
    ")\n",
    "\n",
    "popup = folium.Popup(html)\n",
    "\n",
    "folium.Marker([30, -100], popup=popup).add_to(m)\n",
    "\n",
    "m"
   ]
  },
  {
   "cell_type": "code",
   "execution_count": null,
   "id": "eebd7617-0323-4781-a95a-9c8fb1613f96",
   "metadata": {},
   "outputs": [],
   "source": []
  },
  {
   "cell_type": "code",
   "execution_count": null,
   "id": "0eaf898b-49d4-45e5-b13d-5ae7bd64db22",
   "metadata": {},
   "outputs": [],
   "source": [
    "import pandas as pd\n",
    "\n",
    "df = Metro_Art_in_Public_Places_in_37219\n",
    "\n",
    "map_37219 = folium.Map([36.16682 , -86.78317 ], zoom_start=12)\n",
    "\n",
    "html = df.to_html(\n",
    "    classes=\"table table-striped table-hover table-condensed table-responsive\"\n",
    ")\n",
    "\n",
    "popup = folium.Popup(html)\n",
    "\n",
    "folium.Marker([36.16682, -86.78317], popup=popup).add_to(map_37219)\n",
    "\n",
    "map_37219"
   ]
  },
  {
   "cell_type": "code",
   "execution_count": null,
   "id": "ed027a3f-7303-4e84-bea0-e62cf9023548",
   "metadata": {},
   "outputs": [],
   "source": [
    "import folium\n",
    "\n",
    "# Create a map centered at specific coordinates\n",
    "map_37219 = folium.Map(location=[36.16682, -86.78317], zoom_start=12)\n",
    "\n",
    "# Replace this with your actual image URL\n",
    "image_url = \"https://static.wixstatic.com/media/cc4e3f_c26673969be949cabe37c3f3ed9e838e~mv2_d_5184_3456_s_4_2.jpg/v1/crop/x_864,y_0,w_3456,h_3456/fill/w_368,h_368,al_c,q_80,usm_0.66_1.00_0.01,enc_auto/IMG_9155_JPG.jpg\"  # Ensure this is a valid image URL\n",
    "\n",
    "# Create HTML for the popup to display the image\n",
    "html = f'<img src=\"{image_url}\" style=\"width:300px; height:auto;\">'\n",
    "\n",
    "# Add a marker with the image in the popup\n",
    "folium.Marker([36.16682, -86.78317], popup=html, lazy=True).add_to(map_37219)\n",
    "\n",
    "# Save the map to an HTML file\n",
    "map_37219.save('map_with_marker.html')\n",
    "map_37219"
   ]
  },
  {
   "cell_type": "code",
   "execution_count": null,
   "id": "a37577f5-0a70-43a5-a674-7cd26b376d3f",
   "metadata": {},
   "outputs": [],
   "source": [
    "import folium\n",
    "\n",
    "# Create a map centered at specific coordinates\n",
    "map_37219 = folium.Map(location=[36.16682, -86.78317], zoom_start=12)\n",
    "\n",
    "# List of image URLs and their corresponding coordinates\n",
    "images = [\n",
    "    {\n",
    "        \"url\": \"https://static.wixstatic.com/media/cc4e3f_c26673969be949cabe37c3f3ed9e838e~mv2_d_5184_3456_s_4_2.jpg/v1/crop/x_864,y_0,w_3456,h_3456/fill/w_368,h_368,al_c,q_80,usm_0.66_1.00_0.01,enc_auto/IMG_9155_JPG.jpg\",\n",
    "        \"location\": [36.16682, -86.78317],\n",
    "        \"title\": \"Image 1\"\n",
    "    },\n",
    "    {\n",
    "        \"url\": \"https://static.wixstatic.com/media/cc4e3f_9a63868c969e47479e9562691d28e374~mv2.png/v1/crop/x_0,y_20,w_1080,h_1040/fill/w_374,h_360,al_c,q_85,usm_0.66_1.00_0.01,enc_auto/Mural%20Guide%20for%20Web%20.png\",\n",
    "        \"location\": [36.17000, -86.78000],\n",
    "        \"title\": \"Image 2\"\n",
    "    },\n",
    "    {\n",
    "        \"url\": \"https://i0.wp.com/walkslowrunwild.com/wp-content/uploads/2018/03/Stockholm-Stadion-Metro-Art-Rainbow.jpg?quality=80&strip=all&ssl=1\",\n",
    "        \"location\": [36.17100, -86.78500],\n",
    "        \"title\": \"Image 3\"\n",
    "    },\n",
    "    {\n",
    "        \"url\": \"https://i0.wp.com/nashvillepublicart.com/wp-content/uploads/2021/11/Bottle-Mural-1.jpg?resize=1024%2C534&ssl=1\",\n",
    "        \"location\": [36.17200, -86.78600],\n",
    "        \"title\": \"Image 4\"\n",
    "    },\n",
    "    {\n",
    "        \"url\": \"https://tse1.mm.bing.net/th?id=OIP.URzkFWnSqOROEUokTrSiOQHaEU&pid=Api&P=0&h=180\",\n",
    "        \"location\": [36.17300, -86.78700],\n",
    "        \"title\": \"Image 5\"\n",
    "    },\n",
    "    {\n",
    "        \"url\": \"https://i0.wp.com/www.renetimmermans.com/blog/wp-content/uploads/2015/04/20150403-Stockholm-Sweden-0198-hdr.jpg?ssl=1\",\n",
    "        \"location\": [36.17400, -86.78800],\n",
    "        \"title\": \"Image 6\"\n",
    "    },\n",
    "    {\n",
    "        \"url\": \"https://tse1.mm.bing.net/th?id=OIP.ctW6ul9lALc95JTwHjzO7wHaE8&pid=Api&P=0&h=180\",\n",
    "        \"location\": [36.17500, -86.78900],\n",
    "        \"title\": \"Image 7\"\n",
    "    },\n",
    "    {\n",
    "        \"url\": \"https://tse2.mm.bing.net/th?id=OIP.TIyu3tGXv9brq3sA432tSgHaE8&pid=Api&P=0&h=180\",\n",
    "        \"location\": [36.17600, -86.79000],\n",
    "        \"title\": \"Image 8\"\n",
    "    },\n",
    "    {\n",
    "        \"url\": \"https://tse1.mm.bing.net/th?id=OIP.zxiY3SegaI5-cFB8hb_UGwHaEU&pid=Api&P=0&h=180\",\n",
    "        \"location\": [36.17700, -86.79100],\n",
    "        \"title\": \"Image 9\"\n",
    "    },\n",
    "    {\n",
    "        \"url\": \"https://tse3.mm.bing.net/th?id=OIP.MtnuGzO82RvNXHydTe_KLQHaEK&pid=Api&P=0&h=180\",\n",
    "        \"location\": [36.17800, -86.79200],\n",
    "        \"title\": \"Image 10\"\n",
    "    },\n",
    "]\n",
    "\n",
    "# Add markers for each image\n",
    "for img in images:\n",
    "    html = f'<img src=\"{img[\"url\"]}\" style=\"width:300px; height:auto;\">'\n",
    "    folium.Marker(img[\"location\"], popup=html, tooltip=img[\"title\"]).add_to(map_37219)\n",
    "\n",
    "# Save the map to an HTML file\n",
    "map_37219.save('map_with_multiple_images.html')\n",
    "map_37219\n"
   ]
  },
  {
   "cell_type": "code",
   "execution_count": null,
   "id": "c8d35715-0caa-4fd3-82a5-4709484a38c5",
   "metadata": {},
   "outputs": [],
   "source": [
    "import folium\n",
    "\n",
    "# Create a map centered at specific coordinates\n",
    "map_37219 = folium.Map(location=[36.16682, -86.78317], zoom_start=12)\n",
    "\n",
    "# List containing one image and one YouTube video with their coordinates\n",
    "media = [\n",
    "    {\n",
    "        \"type\": \"youtube\",\n",
    "        \"url\": \"https://youtube.com/embed/cgvqfpkB3ZM\",  # Replace with your actual YouTube video URL\n",
    "        \"location\": [36.17000, -86.78000],\n",
    "        \"title\": \"YouTube Video 1\"\n",
    "    },\n",
    "]\n",
    "\n",
    "# Add markers for each media item\n",
    "for item in media:\n",
    "    if item[\"type\"] == \"image\":\n",
    "        html = f'<img src=\"{item[\"url\"]}\" style=\"width:300px; height:auto;\">'\n",
    "    elif item[\"type\"] == \"youtube\":\n",
    "        html = f'<iframe width=\"300\" height=\"200\" src=\"{item[\"url\"]}\" frameborder=\"0\" allowfullscreen></iframe>'\n",
    "    \n",
    "    folium.Marker(item[\"location\"], popup=html, tooltip=item[\"title\"]).add_to(map_37219)\n",
    "\n",
    "# Save the map to an HTML file\n",
    "map_37219.save('map_with_image_and_youtube.html')\n",
    "map_37219"
   ]
  },
  {
   "cell_type": "code",
   "execution_count": null,
   "id": "de81ca44-c986-471b-a816-cd3831cb0e43",
   "metadata": {},
   "outputs": [],
   "source": [
    "for ind, row in Metro_Art_in_Public_Places_in_37219.iterrows():\n",
    "    if row['Type']in(['\tSculpture']): \n",
    "       Metro_Art_in_Public_Places_in_37219.loc[ind, 'Art_group'] = 'Sculpture'\n",
    "    elif row['Type']in(['Frieze']) :\n",
    "        Metro_Art_in_Public_Places_in_37219.loc[ind, 'Art_group'] = 'Frieze'\n",
    "    elif row['Type']in(['Mural']):\n",
    "        Metro_Art_in_Public_Places_in_37219.loc[ind, 'Art_group'] ='Mural'\n",
    "    elif row['Type']in(['Mobile']):\n",
    "      Metro_Art_in_Public_Places_in_37219.loc[ind, 'Art_group'] ='Mobile'"
   ]
  },
  {
   "cell_type": "code",
   "execution_count": null,
   "id": "df714ee3-772b-497c-bbba-5029bd992555",
   "metadata": {},
   "outputs": [],
   "source": [
    "Metro_Art_in_Public_Places_in_37219.dropna()"
   ]
  },
  {
   "cell_type": "code",
   "execution_count": null,
   "id": "c946ad6a-edd0-408f-ba09-e35685dc9338",
   "metadata": {},
   "outputs": [],
   "source": []
  }
 ],
 "metadata": {
  "kernelspec": {
   "display_name": "Python 3 (ipykernel)",
   "language": "python",
   "name": "python3"
  },
  "language_info": {
   "codemirror_mode": {
    "name": "ipython",
    "version": 3
   },
   "file_extension": ".py",
   "mimetype": "text/x-python",
   "name": "python",
   "nbconvert_exporter": "python",
   "pygments_lexer": "ipython3",
   "version": "3.10.14"
  }
 },
 "nbformat": 4,
 "nbformat_minor": 5
}
